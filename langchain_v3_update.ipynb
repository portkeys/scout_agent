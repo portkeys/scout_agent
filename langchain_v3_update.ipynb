{
 "cells": [
  {
   "cell_type": "code",
   "execution_count": 14,
   "id": "initial_id",
   "metadata": {
    "collapsed": true,
    "ExecuteTime": {
     "end_time": "2024-10-01T14:37:00.926322Z",
     "start_time": "2024-10-01T14:36:59.067599Z"
    }
   },
   "outputs": [
    {
     "name": "stdout",
     "output_type": "stream",
     "text": [
      "Note: you may need to restart the kernel to use updated packages.\n"
     ]
    }
   ],
   "source": [
    "%pip install -qU langchain-pinecone pinecone-client==3.1.0 langchain-core==0.3.6 openai==1.40.0\n"
   ]
  },
  {
   "cell_type": "code",
   "outputs": [
    {
     "name": "stdout",
     "output_type": "stream",
     "text": [
      "langchain-pinecone version: 0.2.0\n",
      "pinecone version: 3.1.0\n",
      "langchain core version: 0.3.6\n"
     ]
    }
   ],
   "source": [
    "from importlib.metadata import version\n",
    "print(f\"langchain-pinecone version: {version('langchain-pinecone')}\")\n",
    "print(f\"pinecone version: {version('pinecone-client')}\")\n",
    "print(f\"langchain core version: {version('langchain-core')}\")"
   ],
   "metadata": {
    "collapsed": false,
    "ExecuteTime": {
     "end_time": "2024-10-01T14:49:37.202731Z",
     "start_time": "2024-10-01T14:49:37.191597Z"
    }
   },
   "id": "366790cdfa339f40",
   "execution_count": 1
  },
  {
   "cell_type": "code",
   "outputs": [],
   "source": [
    "%load_ext dotenv\n",
    "%dotenv\n",
    "%load_ext autoreload\n",
    "%autoreload 2"
   ],
   "metadata": {
    "collapsed": false,
    "ExecuteTime": {
     "end_time": "2024-10-02T23:28:21.925666Z",
     "start_time": "2024-10-02T23:28:21.904609Z"
    }
   },
   "id": "38b25ebab6924bc9",
   "execution_count": 2
  },
  {
   "cell_type": "code",
   "outputs": [],
   "source": [
    "import os\n",
    "from pinecone import Pinecone\n",
    "from langchain_openai import OpenAIEmbeddings\n",
    "from langchain_pinecone import PineconeVectorStore\n",
    "\n",
    "\n",
    "# Scout settings\n",
    "OPENAI_API_KEY = os.getenv('OPENAI_API_KEY')\n",
    "PINECONE_API_KEY = os.getenv('PINECONE_API_KEY')\n",
    "LANGCHAIN_API_KEY = os.getenv('LANGCHAIN_API_KEY')\n",
    "\n",
    "# LangSmith Tracing\n",
    "os.environ[\"LANGCHAIN_API_KEY\"] = LANGCHAIN_API_KEY\n",
    "os.environ[\"LANGCHAIN_TRACING_V2\"] = \"true\"\n",
    "os.environ[\"LANGCHAIN_ENDPOINT\"] = \"https://api.smith.langchain.com\"\n",
    "os.environ[\"LANGCHAIN_PROJECT\"] = \"scout-agent\"\n",
    "\n",
    "# Pinecone\n",
    "pc = Pinecone(api_key=PINECONE_API_KEY)\n",
    "index_name = \"scout\"\n",
    "index = pc.Index(index_name)\n",
    "embeddings = OpenAIEmbeddings(model=\"text-embedding-ada-002\")  \n",
    "vector_store = PineconeVectorStore(index=index, embedding=embeddings)\n"
   ],
   "metadata": {
    "collapsed": false,
    "ExecuteTime": {
     "end_time": "2024-10-02T23:28:23.499851Z",
     "start_time": "2024-10-02T23:28:23.024922Z"
    }
   },
   "id": "5809bf4b813456c4",
   "execution_count": 3
  },
  {
   "cell_type": "code",
   "outputs": [],
   "source": [
    "import datetime\n",
    "\n",
    "def retrieve_pinecone(query: str) -> dict:\n",
    "    \"\"\"\n",
    "    Retrieve relevant context and source from Pinecone\n",
    "    - query: user's question\n",
    "    - We filter out score < 0.8 to ensure the relevance of the context\n",
    "    \"\"\"\n",
    "    context = []\n",
    "    source = []\n",
    "    added_urls = set()\n",
    "    separator = \"\\n\"\n",
    "    vectorstore = vector_store\n",
    "\n",
    "    # Find top-k relevant articles from Pinecone\n",
    "    results = vectorstore.similarity_search_with_score(query, k=4)\n",
    "\n",
    "    for res in results:\n",
    "        x, score = res\n",
    "        if score > 0.83:\n",
    "            context.append(separator + x.page_content)\n",
    "            metadata = {key: value.date().isoformat() if isinstance(value,\n",
    "                                                                    datetime.datetime) else value\n",
    "                        for key, value in x.metadata.items()\n",
    "                        if key in ['item_source', 'item_title', 'item_url',\n",
    "                                   'item_image_url', 'item_created_at']}\n",
    "            # Check if we have the same source url\n",
    "            if metadata['item_url'] not in added_urls:\n",
    "                source.append(metadata)\n",
    "                added_urls.add(metadata['item_url'])\n",
    "\n",
    "    context = \"\".join(context)\n",
    "\n",
    " # Return structured data\n",
    "    return {'answer': context, 'source': source}"
   ],
   "metadata": {
    "collapsed": false,
    "ExecuteTime": {
     "end_time": "2024-10-02T23:28:28.086628Z",
     "start_time": "2024-10-02T23:28:28.073443Z"
    }
   },
   "id": "30260867a646c3a4",
   "execution_count": 4
  },
  {
   "cell_type": "code",
   "outputs": [],
   "source": [
    "import requests\n",
    "from langchain_core.tools import tool\n",
    "\n",
    "@tool\n",
    "def search_trailforks(trail_name:str) -> dict:\n",
    "    \"\"\"\n",
    "    Use this tool to get id for a specific trail or route based on input trail_name \n",
    "    \"\"\"\n",
    "    app_id = 76\n",
    "    app_secret = '8c1cea65e4305c3f'\n",
    "\n",
    "    url = f\"https://www.trailforks.com/api/1/search?term={trail_name}&type=trail&scope=full&app_id={app_id}&app_secret={app_secret}\"\n",
    "    \n",
    "    response = requests.get(url)\n",
    "    if response.status_code == 200:\n",
    "        data = response.json()\n",
    "        #Extracting trail ID from the response\n",
    "        if data:\n",
    "            id = data['data']['hits']['hits'][0]['_id'] #return the top result out of 50\n",
    "            #source = data['data']['hits']['hits'][0]['_source']\n",
    "            return {'answer': f\"Trail Map Preview\", 'source': [id]}\n",
    "        return {'answer': \"No trail found\", 'source': []}"
   ],
   "metadata": {
    "collapsed": false,
    "ExecuteTime": {
     "end_time": "2024-10-02T23:28:31.661131Z",
     "start_time": "2024-10-02T23:28:31.644273Z"
    }
   },
   "id": "e9c8ef2528e0d6d5",
   "execution_count": 5
  },
  {
   "cell_type": "code",
   "outputs": [
    {
     "data": {
      "image/jpeg": "[encoded data removed]",
      "text/plain": "<IPython.core.display.Image object>"
     },
     "metadata": {},
     "output_type": "display_data"
    }
   ],
   "source": [
    "from langchain_openai import ChatOpenAI\n",
    "from IPython.display import Image, display\n",
    "from langgraph.graph import StateGraph, START, END\n",
    "from langgraph.graph import MessagesState\n",
    "from langgraph.prebuilt import ToolNode\n",
    "from langgraph.prebuilt import tools_condition\n",
    "\n",
    "llm = ChatOpenAI(model=\"gpt-4o-mini\")\n",
    "\n",
    "llm_with_tools = llm.bind_tools([retrieve_pinecone, search_trailforks])\n",
    "\n",
    "# Node\n",
    "def tool_calling_llm(state: MessagesState):\n",
    "    return {\"messages\": [llm_with_tools.invoke(state[\"messages\"])]}\n",
    "\n",
    "# Build graph\n",
    "builder = StateGraph(MessagesState)\n",
    "builder.add_node(\"tool_calling_llm\", tool_calling_llm)\n",
    "builder.add_node(\"tools\", ToolNode([retrieve_pinecone, search_trailforks]))\n",
    "builder.add_edge(START, \"tool_calling_llm\")\n",
    "builder.add_conditional_edges(\n",
    "    \"tool_calling_llm\",\n",
    "    # If the latest message (result) from assistant is a tool call -> tools_condition routes to tools\n",
    "    # If the latest message (result) from assistant is a not a tool call -> tools_condition routes to END\n",
    "    tools_condition,\n",
    ")\n",
    "builder.add_edge(\"tools\", END)\n",
    "graph = builder.compile()\n",
    "\n",
    "# View\n",
    "display(Image(graph.get_graph().draw_mermaid_png()))"
   ],
   "metadata": {
    "collapsed": false,
    "ExecuteTime": {
     "end_time": "2024-10-02T23:28:35.718231Z",
     "start_time": "2024-10-02T23:28:35.387219Z"
    }
   },
   "id": "6cb925fcdd5766c1",
   "execution_count": 6
  },
  {
   "cell_type": "code",
   "outputs": [
    {
     "ename": "TypeError",
     "evalue": "'HumanMessage' object is not subscriptable",
     "output_type": "error",
     "traceback": [
      "\u001B[0;31m---------------------------------------------------------------------------\u001B[0m",
      "\u001B[0;31mTypeError\u001B[0m                                 Traceback (most recent call last)",
      "Cell \u001B[0;32mIn[108], line 8\u001B[0m\n\u001B[1;32m      4\u001B[0m query2 \u001B[38;5;241m=\u001B[39m \u001B[38;5;124m\"\u001B[39m\u001B[38;5;124mTell me the id of Pacific Crest Trail\u001B[39m\u001B[38;5;124m\"\u001B[39m\n\u001B[1;32m      7\u001B[0m messages \u001B[38;5;241m=\u001B[39m [HumanMessage(content\u001B[38;5;241m=\u001B[39mquery1)]\n\u001B[0;32m----> 8\u001B[0m messages \u001B[38;5;241m=\u001B[39m \u001B[43mgraph\u001B[49m\u001B[38;5;241;43m.\u001B[39;49m\u001B[43minvoke\u001B[49m\u001B[43m(\u001B[49m\u001B[43m{\u001B[49m\u001B[38;5;124;43m\"\u001B[39;49m\u001B[38;5;124;43mmessages\u001B[39;49m\u001B[38;5;124;43m\"\u001B[39;49m\u001B[43m:\u001B[49m\u001B[43m \u001B[49m\u001B[43mmessages\u001B[49m\u001B[43m}\u001B[49m\u001B[43m)\u001B[49m\n\u001B[1;32m      9\u001B[0m last_msg \u001B[38;5;241m=\u001B[39m messages[\u001B[38;5;124m'\u001B[39m\u001B[38;5;124mmessages\u001B[39m\u001B[38;5;124m'\u001B[39m][\u001B[38;5;241m-\u001B[39m\u001B[38;5;241m1\u001B[39m]\n\u001B[1;32m     10\u001B[0m \u001B[38;5;66;03m#print(type(last_msg)) # 'langchain_core.messages.tool.ToolMessage'\u001B[39;00m\n\u001B[1;32m     11\u001B[0m \n\u001B[1;32m     12\u001B[0m \u001B[38;5;66;03m# tool_message = messages['messages'][-1]\u001B[39;00m\n\u001B[1;32m     13\u001B[0m \u001B[38;5;66;03m# \u001B[39;00m\n\u001B[1;32m     14\u001B[0m \u001B[38;5;66;03m# tool_message.content\u001B[39;00m\n",
      "File \u001B[0;32m/Library/Frameworks/Python.framework/Versions/3.10/lib/python3.10/site-packages/langgraph/pregel/__init__.py:1560\u001B[0m, in \u001B[0;36mPregel.invoke\u001B[0;34m(self, input, config, stream_mode, output_keys, interrupt_before, interrupt_after, debug, **kwargs)\u001B[0m\n\u001B[1;32m   1558\u001B[0m \u001B[38;5;28;01melse\u001B[39;00m:\n\u001B[1;32m   1559\u001B[0m     chunks \u001B[38;5;241m=\u001B[39m []\n\u001B[0;32m-> 1560\u001B[0m \u001B[38;5;28;01mfor\u001B[39;00m chunk \u001B[38;5;129;01min\u001B[39;00m \u001B[38;5;28mself\u001B[39m\u001B[38;5;241m.\u001B[39mstream(\n\u001B[1;32m   1561\u001B[0m     \u001B[38;5;28minput\u001B[39m,\n\u001B[1;32m   1562\u001B[0m     config,\n\u001B[1;32m   1563\u001B[0m     stream_mode\u001B[38;5;241m=\u001B[39mstream_mode,\n\u001B[1;32m   1564\u001B[0m     output_keys\u001B[38;5;241m=\u001B[39moutput_keys,\n\u001B[1;32m   1565\u001B[0m     interrupt_before\u001B[38;5;241m=\u001B[39minterrupt_before,\n\u001B[1;32m   1566\u001B[0m     interrupt_after\u001B[38;5;241m=\u001B[39minterrupt_after,\n\u001B[1;32m   1567\u001B[0m     debug\u001B[38;5;241m=\u001B[39mdebug,\n\u001B[1;32m   1568\u001B[0m     \u001B[38;5;241m*\u001B[39m\u001B[38;5;241m*\u001B[39mkwargs,\n\u001B[1;32m   1569\u001B[0m ):\n\u001B[1;32m   1570\u001B[0m     \u001B[38;5;28;01mif\u001B[39;00m stream_mode \u001B[38;5;241m==\u001B[39m \u001B[38;5;124m\"\u001B[39m\u001B[38;5;124mvalues\u001B[39m\u001B[38;5;124m\"\u001B[39m:\n\u001B[1;32m   1571\u001B[0m         latest \u001B[38;5;241m=\u001B[39m chunk\n",
      "File \u001B[0;32m/Library/Frameworks/Python.framework/Versions/3.10/lib/python3.10/site-packages/langgraph/pregel/__init__.py:1298\u001B[0m, in \u001B[0;36mPregel.stream\u001B[0;34m(self, input, config, stream_mode, output_keys, interrupt_before, interrupt_after, debug, subgraphs)\u001B[0m\n\u001B[1;32m   1287\u001B[0m     \u001B[38;5;66;03m# Similarly to Bulk Synchronous Parallel / Pregel model\u001B[39;00m\n\u001B[1;32m   1288\u001B[0m     \u001B[38;5;66;03m# computation proceeds in steps, while there are channel updates\u001B[39;00m\n\u001B[1;32m   1289\u001B[0m     \u001B[38;5;66;03m# channel updates from step N are only visible in step N+1\u001B[39;00m\n\u001B[1;32m   1290\u001B[0m     \u001B[38;5;66;03m# channels are guaranteed to be immutable for the duration of the step,\u001B[39;00m\n\u001B[1;32m   1291\u001B[0m     \u001B[38;5;66;03m# with channel updates applied only at the transition between steps\u001B[39;00m\n\u001B[1;32m   1292\u001B[0m     \u001B[38;5;28;01mwhile\u001B[39;00m loop\u001B[38;5;241m.\u001B[39mtick(\n\u001B[1;32m   1293\u001B[0m         input_keys\u001B[38;5;241m=\u001B[39m\u001B[38;5;28mself\u001B[39m\u001B[38;5;241m.\u001B[39minput_channels,\n\u001B[1;32m   1294\u001B[0m         interrupt_before\u001B[38;5;241m=\u001B[39minterrupt_before_,\n\u001B[1;32m   1295\u001B[0m         interrupt_after\u001B[38;5;241m=\u001B[39minterrupt_after_,\n\u001B[1;32m   1296\u001B[0m         manager\u001B[38;5;241m=\u001B[39mrun_manager,\n\u001B[1;32m   1297\u001B[0m     ):\n\u001B[0;32m-> 1298\u001B[0m         \u001B[38;5;28;01mfor\u001B[39;00m _ \u001B[38;5;129;01min\u001B[39;00m runner\u001B[38;5;241m.\u001B[39mtick(\n\u001B[1;32m   1299\u001B[0m             loop\u001B[38;5;241m.\u001B[39mtasks\u001B[38;5;241m.\u001B[39mvalues(),\n\u001B[1;32m   1300\u001B[0m             timeout\u001B[38;5;241m=\u001B[39m\u001B[38;5;28mself\u001B[39m\u001B[38;5;241m.\u001B[39mstep_timeout,\n\u001B[1;32m   1301\u001B[0m             retry_policy\u001B[38;5;241m=\u001B[39m\u001B[38;5;28mself\u001B[39m\u001B[38;5;241m.\u001B[39mretry_policy,\n\u001B[1;32m   1302\u001B[0m             get_waiter\u001B[38;5;241m=\u001B[39mget_waiter,\n\u001B[1;32m   1303\u001B[0m         ):\n\u001B[1;32m   1304\u001B[0m             \u001B[38;5;66;03m# emit output\u001B[39;00m\n\u001B[1;32m   1305\u001B[0m             \u001B[38;5;28;01myield from\u001B[39;00m output()\n\u001B[1;32m   1306\u001B[0m \u001B[38;5;66;03m# emit output\u001B[39;00m\n",
      "File \u001B[0;32m/Library/Frameworks/Python.framework/Versions/3.10/lib/python3.10/site-packages/langgraph/pregel/runner.py:56\u001B[0m, in \u001B[0;36mPregelRunner.tick\u001B[0;34m(self, tasks, reraise, timeout, retry_policy, get_waiter)\u001B[0m\n\u001B[1;32m     54\u001B[0m t \u001B[38;5;241m=\u001B[39m tasks[\u001B[38;5;241m0\u001B[39m]\n\u001B[1;32m     55\u001B[0m \u001B[38;5;28;01mtry\u001B[39;00m:\n\u001B[0;32m---> 56\u001B[0m     \u001B[43mrun_with_retry\u001B[49m\u001B[43m(\u001B[49m\u001B[43mt\u001B[49m\u001B[43m,\u001B[49m\u001B[43m \u001B[49m\u001B[43mretry_policy\u001B[49m\u001B[43m)\u001B[49m\n\u001B[1;32m     57\u001B[0m     \u001B[38;5;28mself\u001B[39m\u001B[38;5;241m.\u001B[39mcommit(t, \u001B[38;5;28;01mNone\u001B[39;00m)\n\u001B[1;32m     58\u001B[0m \u001B[38;5;28;01mexcept\u001B[39;00m \u001B[38;5;167;01mException\u001B[39;00m \u001B[38;5;28;01mas\u001B[39;00m exc:\n",
      "File \u001B[0;32m/Library/Frameworks/Python.framework/Versions/3.10/lib/python3.10/site-packages/langgraph/pregel/retry.py:29\u001B[0m, in \u001B[0;36mrun_with_retry\u001B[0;34m(task, retry_policy)\u001B[0m\n\u001B[1;32m     27\u001B[0m task\u001B[38;5;241m.\u001B[39mwrites\u001B[38;5;241m.\u001B[39mclear()\n\u001B[1;32m     28\u001B[0m \u001B[38;5;66;03m# run the task\u001B[39;00m\n\u001B[0;32m---> 29\u001B[0m \u001B[43mtask\u001B[49m\u001B[38;5;241;43m.\u001B[39;49m\u001B[43mproc\u001B[49m\u001B[38;5;241;43m.\u001B[39;49m\u001B[43minvoke\u001B[49m\u001B[43m(\u001B[49m\u001B[43mtask\u001B[49m\u001B[38;5;241;43m.\u001B[39;49m\u001B[43minput\u001B[49m\u001B[43m,\u001B[49m\u001B[43m \u001B[49m\u001B[43mconfig\u001B[49m\u001B[43m)\u001B[49m\n\u001B[1;32m     30\u001B[0m \u001B[38;5;66;03m# if successful, end\u001B[39;00m\n\u001B[1;32m     31\u001B[0m \u001B[38;5;28;01mbreak\u001B[39;00m\n",
      "File \u001B[0;32m/Library/Frameworks/Python.framework/Versions/3.10/lib/python3.10/site-packages/langgraph/utils/runnable.py:405\u001B[0m, in \u001B[0;36mRunnableSeq.invoke\u001B[0;34m(self, input, config, **kwargs)\u001B[0m\n\u001B[1;32m    403\u001B[0m context\u001B[38;5;241m.\u001B[39mrun(_set_config_context, config)\n\u001B[1;32m    404\u001B[0m \u001B[38;5;28;01mif\u001B[39;00m i \u001B[38;5;241m==\u001B[39m \u001B[38;5;241m0\u001B[39m:\n\u001B[0;32m--> 405\u001B[0m     \u001B[38;5;28minput\u001B[39m \u001B[38;5;241m=\u001B[39m \u001B[43mcontext\u001B[49m\u001B[38;5;241;43m.\u001B[39;49m\u001B[43mrun\u001B[49m\u001B[43m(\u001B[49m\u001B[43mstep\u001B[49m\u001B[38;5;241;43m.\u001B[39;49m\u001B[43minvoke\u001B[49m\u001B[43m,\u001B[49m\u001B[43m \u001B[49m\u001B[38;5;28;43minput\u001B[39;49m\u001B[43m,\u001B[49m\u001B[43m \u001B[49m\u001B[43mconfig\u001B[49m\u001B[43m,\u001B[49m\u001B[43m \u001B[49m\u001B[38;5;241;43m*\u001B[39;49m\u001B[38;5;241;43m*\u001B[39;49m\u001B[43mkwargs\u001B[49m\u001B[43m)\u001B[49m\n\u001B[1;32m    406\u001B[0m \u001B[38;5;28;01melse\u001B[39;00m:\n\u001B[1;32m    407\u001B[0m     \u001B[38;5;28minput\u001B[39m \u001B[38;5;241m=\u001B[39m context\u001B[38;5;241m.\u001B[39mrun(step\u001B[38;5;241m.\u001B[39minvoke, \u001B[38;5;28minput\u001B[39m, config)\n",
      "File \u001B[0;32m/Library/Frameworks/Python.framework/Versions/3.10/lib/python3.10/site-packages/langgraph/utils/runnable.py:181\u001B[0m, in \u001B[0;36mRunnableCallable.invoke\u001B[0;34m(self, input, config, **kwargs)\u001B[0m\n\u001B[1;32m    179\u001B[0m \u001B[38;5;28;01melse\u001B[39;00m:\n\u001B[1;32m    180\u001B[0m     context\u001B[38;5;241m.\u001B[39mrun(_set_config_context, config)\n\u001B[0;32m--> 181\u001B[0m     ret \u001B[38;5;241m=\u001B[39m \u001B[43mcontext\u001B[49m\u001B[38;5;241;43m.\u001B[39;49m\u001B[43mrun\u001B[49m\u001B[43m(\u001B[49m\u001B[38;5;28;43mself\u001B[39;49m\u001B[38;5;241;43m.\u001B[39;49m\u001B[43mfunc\u001B[49m\u001B[43m,\u001B[49m\u001B[43m \u001B[49m\u001B[38;5;28;43minput\u001B[39;49m\u001B[43m,\u001B[49m\u001B[43m \u001B[49m\u001B[38;5;241;43m*\u001B[39;49m\u001B[38;5;241;43m*\u001B[39;49m\u001B[43mkwargs\u001B[49m\u001B[43m)\u001B[49m\n\u001B[1;32m    182\u001B[0m \u001B[38;5;28;01mif\u001B[39;00m \u001B[38;5;28misinstance\u001B[39m(ret, Runnable) \u001B[38;5;129;01mand\u001B[39;00m \u001B[38;5;28mself\u001B[39m\u001B[38;5;241m.\u001B[39mrecurse:\n\u001B[1;32m    183\u001B[0m     \u001B[38;5;28;01mreturn\u001B[39;00m ret\u001B[38;5;241m.\u001B[39minvoke(\u001B[38;5;28minput\u001B[39m, config)\n",
      "Cell \u001B[0;32mIn[107], line 17\u001B[0m, in \u001B[0;36mtool_calling_llm\u001B[0;34m(state)\u001B[0m\n\u001B[1;32m     13\u001B[0m \u001B[38;5;28;01mdef\u001B[39;00m \u001B[38;5;21mtool_calling_llm\u001B[39m(state: MessagesState):\n\u001B[1;32m     14\u001B[0m \u001B[38;5;250m    \u001B[39m\u001B[38;5;124;03m\"\"\"\u001B[39;00m\n\u001B[1;32m     15\u001B[0m \u001B[38;5;124;03m    Modify to handle structured output for both trails and non-trail related queries.\u001B[39;00m\n\u001B[1;32m     16\u001B[0m \u001B[38;5;124;03m    \"\"\"\u001B[39;00m\n\u001B[0;32m---> 17\u001B[0m     query \u001B[38;5;241m=\u001B[39m \u001B[43mstate\u001B[49m\u001B[43m[\u001B[49m\u001B[38;5;124;43m\"\u001B[39;49m\u001B[38;5;124;43mmessages\u001B[39;49m\u001B[38;5;124;43m\"\u001B[39;49m\u001B[43m]\u001B[49m\u001B[43m[\u001B[49m\u001B[38;5;241;43m-\u001B[39;49m\u001B[38;5;241;43m1\u001B[39;49m\u001B[43m]\u001B[49m\u001B[43m[\u001B[49m\u001B[38;5;124;43m\"\u001B[39;49m\u001B[38;5;124;43mcontent\u001B[39;49m\u001B[38;5;124;43m\"\u001B[39;49m\u001B[43m]\u001B[49m\n\u001B[1;32m     18\u001B[0m     \u001B[38;5;28;01mif\u001B[39;00m \u001B[38;5;124m\"\u001B[39m\u001B[38;5;124mtrail\u001B[39m\u001B[38;5;124m\"\u001B[39m \u001B[38;5;129;01min\u001B[39;00m query\u001B[38;5;241m.\u001B[39mlower():\n\u001B[1;32m     19\u001B[0m         \u001B[38;5;66;03m# Use trail-specific logic\u001B[39;00m\n\u001B[1;32m     20\u001B[0m         response \u001B[38;5;241m=\u001B[39m search_trailforks(query)\n",
      "\u001B[0;31mTypeError\u001B[0m: 'HumanMessage' object is not subscriptable"
     ]
    }
   ],
   "source": [
    "from langchain_core.messages import HumanMessage\n",
    "\n",
    "query1 = \"What are the best running  shoes in 2024?\"\n",
    "query2 = \"Tell me the id of Pacific Crest Trail\"\n",
    "\n",
    "\n",
    "messages = [HumanMessage(content=query1)]\n",
    "messages = graph.invoke({\"messages\": messages})\n",
    "last_msg = messages['messages'][-1]\n",
    "#print(type(last_msg)) # 'langchain_core.messages.tool.ToolMessage'\n",
    "\n",
    "# tool_message = messages['messages'][-1]\n",
    "# \n",
    "# tool_message.content\n",
    "for m in messages['messages']:\n",
    "    m.pretty_print()"
   ],
   "metadata": {
    "collapsed": false,
    "ExecuteTime": {
     "end_time": "2024-10-01T20:08:50.688019Z",
     "start_time": "2024-10-01T20:08:50.601305Z"
    }
   },
   "id": "2ca9d2bf7d948c36",
   "execution_count": 108
  },
  {
   "cell_type": "code",
   "outputs": [],
   "source": [],
   "metadata": {
    "collapsed": false
   },
   "id": "db24f777d8dd3d97"
  },
  {
   "cell_type": "markdown",
   "source": [
    "# Agent"
   ],
   "metadata": {
    "collapsed": false
   },
   "id": "583d7264979d179d"
  },
  {
   "cell_type": "code",
   "outputs": [
    {
     "data": {
      "image/jpeg": "[encoded data removed]",
      "text/plain": "<IPython.core.display.Image object>"
     },
     "metadata": {},
     "output_type": "display_data"
    }
   ],
   "source": [
    "from langgraph.graph import MessagesState\n",
    "from langchain_core.messages import HumanMessage, SystemMessage\n",
    "from langgraph.graph import START, StateGraph\n",
    "from langgraph.prebuilt import tools_condition\n",
    "from langgraph.prebuilt import ToolNode\n",
    "from IPython.display import Image, display\n",
    "\n",
    "# System message\n",
    "sys_msg = SystemMessage(content=\"You are a outdoor activity expert tasked with recommending trails and answer questions about hiking, trail running and mountain biking.\")\n",
    "\n",
    "tools = [retrieve_pinecone, search_trailforks]\n",
    "\n",
    "# Node\n",
    "def assistant(state: MessagesState):\n",
    "   return {\"messages\": [llm_with_tools.invoke([sys_msg] + state[\"messages\"])]}\n",
    "\n",
    "# Graph\n",
    "builder = StateGraph(MessagesState)\n",
    "\n",
    "# Define nodes: these do the work\n",
    "builder.add_node(\"assistant\", assistant)\n",
    "builder.add_node(\"tools\", ToolNode(tools))\n",
    "\n",
    "# Define edges: these determine how the control flow moves\n",
    "builder.add_edge(START, \"assistant\")\n",
    "builder.add_conditional_edges(\n",
    "    \"assistant\",\n",
    "    # If the latest message (result) from assistant is a tool call -> tools_condition routes to tools\n",
    "    # If the latest message (result) from assistant is a not a tool call -> tools_condition routes to END\n",
    "    tools_condition,\n",
    ")\n",
    "builder.add_edge(\"tools\", \"assistant\")\n",
    "react_graph = builder.compile()\n",
    "\n",
    "# Show\n",
    "display(Image(react_graph.get_graph(xray=True).draw_mermaid_png()))"
   ],
   "metadata": {
    "collapsed": false,
    "ExecuteTime": {
     "end_time": "2024-10-01T19:01:09.114775Z",
     "start_time": "2024-10-01T19:01:09.022127Z"
    }
   },
   "id": "32391882233d668b",
   "execution_count": 78
  },
  {
   "cell_type": "code",
   "outputs": [],
   "source": [
    "query1 = \"What are the best running  shoes in 2024?\"\n",
    "query2 = \"Tell me the id of Pacific Crest Trail\"\n",
    "\n",
    "messages = [HumanMessage(content=query1)]\n",
    "messages = react_graph.invoke({\"messages\": messages})"
   ],
   "metadata": {
    "collapsed": false,
    "ExecuteTime": {
     "end_time": "2024-10-01T19:38:26.691510Z",
     "start_time": "2024-10-01T19:38:19.745857Z"
    }
   },
   "id": "2978de1fe8099143",
   "execution_count": 96
  },
  {
   "cell_type": "code",
   "outputs": [
    {
     "data": {
      "text/plain": "{'messages': [HumanMessage(content='What are the best running  shoes in 2024?', additional_kwargs={}, response_metadata={}, id='e7bffd89-2968-4294-8f46-f926337a6fc4'),\n  AIMessage(content='', additional_kwargs={'tool_calls': [{'id': 'call_vpmZFcbW4WNJFyzOG6Rjdne1', 'function': {'arguments': '{\"query\":\"best running shoes 2024\"}', 'name': 'retrieve_pinecone'}, 'type': 'function'}], 'refusal': None}, response_metadata={'token_usage': {'completion_tokens': 21, 'prompt_tokens': 144, 'total_tokens': 165, 'prompt_tokens_details': {'cached_tokens': 0}, 'completion_tokens_details': {'reasoning_tokens': 0}}, 'model_name': 'gpt-4o-mini-2024-07-18', 'system_fingerprint': 'fp_f85bea6784', 'finish_reason': 'tool_calls', 'logprobs': None}, id='run-50be8c79-9240-442a-a318-fe1cb77637f6-0', tool_calls=[{'name': 'retrieve_pinecone', 'args': {'query': 'best running shoes 2024'}, 'id': 'call_vpmZFcbW4WNJFyzOG6Rjdne1', 'type': 'tool_call'}], usage_metadata={'input_tokens': 144, 'output_tokens': 21, 'total_tokens': 165}),\n  ToolMessage(content='[\"\\\\n4. 2023’s Crop of New Shoes Are Crazy Cushy\\\\nBased on the sneak peeks I’ve seen, next year’s road running shoes will be cushier and more energetic than ever. While there will be another great crop of new racing shoes —including Nike’s Vaporfly Next% 3 ($250) and Mizuno’s Wave Rebellion Pro ($250)—the best models coming out in 2023 will be cushy, energetic training shoes. Take for example Saucony’s new Kinvara Pro ($180), a super-stacked dual-density midsole sandwiched around a curvy tear-drop carbon-fiber plate. It has an 8mm heel-toe offset with a massive stack height (42mm in the heel, 34 mm in the forefoot), but it weighs only 9 oz. (for a men’s size 9.) Another key model is Skechers Speed Beast, a high-off-the-ground racer/trainer (40mm heel, 36mm forefoot) that incorporates the brand’s new, softer, lighter and more responsive Hyper Burst Pro foam. Same goes for the most anticipated trail running shoe, Speedland’s forthcoming GS:TAM ($275), a maximally cushioned model with a unique dual-density Pebax midsole layered around a fork-pronged removable Carbitex carbon-fiber plate and secured by a pair of two-way BOA performance fit dials.\\\\nRELATED: The Running Shoes We’re Most Excited to See in 2023\\\\n5. Trail Running is Blowing Up\\\\nTakeaway: Shoe brands have taken the opportunity to drop new shoes at the U.S. Olympic Trials for years. In 2020, four years after it secretly had Amy Cragg, Shalane Flanagan and Galen Rupp wear first-generation carbon-plated Vaporfly prototypes at the Trials in Los Angeles, Nike gifted every runner a pair of its new Air Zoom Alphafly Next%. This year, Brooks gifted every runner a pair of its soon-to-be-released Hyperion Elite 4 prototypes, that Des Linden has been wearing since the 2022 New York City Marathon. But this time around, all of the new shoes in the race had to be vetted by World Athletics in advance to make sure they were legal for competition (the current list can be found here) and each shoe will have to become available to the public (even if in small quantities) within a short period of time. The bottom line is that 2024 will be another banner year for advancements in supershoes, so keep your eyes peeled for some fast, light and extremely responsive (and rather expensive) new racing shoes.\\\\nRELATED: Puma, Nike, Asics, Brooks Dominate Shoe Tally at U.S. Olympic Trials Marathon\\\\n8. Des Linden in Running the Boston Marathon in 10 Weeks\\\\nCrazy-Fast Super Shoes\\\\nRunning shoes got cushier and faster in 2022. Shoe brands ushered in a new crop of speedy racing shoes enhanced with hyper-responsive foams and carbon-fiber propulsion plates, led by the Nike Air Zoom Alphafly Next% 2 ($275), Adidas Adizero Adios Pro 3 ($250), and ASICS MetaSpeed Sky+ ($250). Under Armour burst on the scene with its first carbon-plated racer, the Flow Velociti Elite ($250) as Kenyan runner Sharon Lokedi made it an auspicious debut by winning the New York City Marathon in a pair of them. Hoka’s Rocket X 2, although it won’t officially launch until early 2023, made waves at several marathons as well as the Ironman World Championship.\\\\nCarbon-fiber plates have also become prolific in trail running shoes, including the Craft CTM Carbon Trail ($260), Saucony Endorphin Edge ($200), and Hoka Tecton X ($200), the latter of which features a set of parallel carbon-fiber plates in each shoe to enhance stability, protection and propulsion. Meanwhile, 2022 Ironman world champion Gustav Iden of Norway ran a new marathon record of 2:36:15 at the event’s return to Hawaii in October wearing a prototype pair of On’s Cloudboom Echo carbon-plated model with a midsole stack height in excess of 50 millimeters. Although those shoes would be deemed illegal in a marathon according to World Athletics standards, those rules don’t apply to Ironman triathlons.\\\\nRELATED: The Running Shoes We’re Most Excited to Try in 2023\\\\nNonbinary Acknowledgement and Inclusion\\\\nThe Best Road Running Shoes of Summer 2023\\\\n\\\\nBest Daily Trainer: Tracksmith Eliot Runner\\\\nBest for Plush Stability: Puma ForeverRun Nitro\\\\nBest for Carbon-Fiber-Fueled Speed: Hoka Rocket X2\\\\nBest Combo of Cushioning and Connection: Topo Cyclone 2\\\\nBest for Smooth Cruising: Adidas Ultraboost Light\\\\nBest for Comfort Junkies: Asics Gel-Nimbus 25\\\\nBest for Longer Races: Saucony Endorphin Elite\\\\nBest for Nimble Versatility: Brooks Levitate 6\\\\nMost Forgiving: Nike Invincible 3\\\\nBest Cushy Uptempo Shoe: On Cloudsurfer\", [{\"item_created_at\": \"2022-12-30T15:00:03+00:00\", \"item_image_url\": \"https://cdn.outsideonline.com/wp-content/uploads/2022/12/RUN-2023.jpg\", \"item_source\": \"OUTSIDE\", \"item_title\": \"10 Things to Look Forward to in Running in 2023 and Beyond\", \"item_url\": \"https://www.outsideonline.com/health/running/culture-running/10-things-in-running-2023/\"}, {\"item_created_at\": \"2024-02-07T03:48:31\", \"item_image_url\": \"https://run-cdn.outsideonline.com/wp-content/uploads/2024/02/jkh-016-scaled.jpg\", \"item_source\": \"OUTSIDE_RUN\", \"item_title\": \"9 Key Takeaways From the U.S. Olympic Trials\", \"item_url\": \"https://run.outsideonline.com/road/road-racing/8-key-takeaways-from-the-u-s-olympic-trials-marathon/\"}, {\"item_created_at\": \"2022-12-29T20:24:36+00:00\", \"item_image_url\": \"https://cdn.outsideonline.com/wp-content/uploads/2022/12/Best-of-Run-2022.jpg\", \"item_source\": \"OUTSIDE\", \"item_title\": \"The Most Inspiring Moments in Running and Multisport from 2022\", \"item_url\": \"https://www.outsideonline.com/health/running/culture-running/inspiring-moments-running-triathlon-2022/\"}, {\"item_created_at\": \"2023-10-25T18:56:11+00:00\", \"item_image_url\": \"https://cdn.outsideonline.com/wp-content/uploads/2023/10/road-running-shoes-wgg24_h.jpg\", \"item_source\": \"OUTSIDE\", \"item_title\": \"The Best Road Running Shoes of Winter 2024\", \"item_url\": \"https://www.outsideonline.com/outdoor-gear/run/best-road-running-shoes/\"}]]', name='retrieve_pinecone', id='91c3737a-d93d-40fa-80f4-762962f1a6f4', tool_call_id='call_vpmZFcbW4WNJFyzOG6Rjdne1'),\n  AIMessage(content=\"Here are some of the best running shoes in 2024, featuring advancements in cushioning and technology:\\n\\n1. **Nike Vaporfly Next% 3** - Priced at $250, this shoe continues the legacy of Nike's racing shoes with enhanced responsiveness and cushioning.\\n\\n2. **Mizuno Wave Rebellion Pro** - Another racing option also priced at $250, known for its energy return and comfort.\\n\\n3. **Saucony Kinvara Pro** - This shoe features a super-stacked dual-density midsole and a carbon-fiber plate, weighing only 9 oz. and priced at $180.\\n\\n4. **Skechers Speed Beast** - A high-off-the-ground model with new Hyper Burst Pro foam, priced at $250.\\n\\n5. **Speedland GS:TAM** - Anticipated as one of the best trail running shoes, priced at $275, it offers a unique dual-density Pebax midsole.\\n\\n6. **Hoka Rocket X 2** - A popular choice for speed, although not officially launched until early 2023.\\n\\n7. **Adidas Adizero Adios Pro 3** - Priced at $250, this shoe is known for its lightweight feel and speed.\\n\\n8. **ASICS MetaSpeed Sky+** - Another racing shoe priced at $250, focusing on performance.\\n\\n9. **Brooks Hyperion Elite 4** - A new entrant often seen at major marathons, showcasing advanced technology.\\n\\n10. **Hoka Tecton X** - A trail running shoe featuring parallel carbon-fiber plates, priced at $200.\\n\\n11. **Saucony Endorphin Elite** - Best for longer races, combining cushioning with responsiveness.\\n\\nFor more details, you can check out the full list of the best road running shoes [here](https://www.outsideonline.com/outdoor-gear/run/best-road-running-shoes/).\", additional_kwargs={'refusal': None}, response_metadata={'token_usage': {'completion_tokens': 387, 'prompt_tokens': 1685, 'total_tokens': 2072, 'prompt_tokens_details': {'cached_tokens': 0}, 'completion_tokens_details': {'reasoning_tokens': 0}}, 'model_name': 'gpt-4o-mini-2024-07-18', 'system_fingerprint': 'fp_f85bea6784', 'finish_reason': 'stop', 'logprobs': None}, id='run-b2ba9b2c-bf1c-49f2-8735-d9dfb9381411-0', usage_metadata={'input_tokens': 1685, 'output_tokens': 387, 'total_tokens': 2072})]}"
     },
     "execution_count": 102,
     "metadata": {},
     "output_type": "execute_result"
    }
   ],
   "source": [
    "messages"
   ],
   "metadata": {
    "collapsed": false,
    "ExecuteTime": {
     "end_time": "2024-10-01T19:41:52.861405Z",
     "start_time": "2024-10-01T19:41:52.858859Z"
    }
   },
   "id": "5c91c26e7fc9a8a6",
   "execution_count": 102
  },
  {
   "cell_type": "code",
   "outputs": [
    {
     "name": "stdout",
     "output_type": "stream",
     "text": [
      "================================\u001B[1m Human Message \u001B[0m=================================\n",
      "\n",
      "What are the best running  shoes in 2024?\n",
      "==================================\u001B[1m Ai Message \u001B[0m==================================\n",
      "Tool Calls:\n",
      "  retrieve_pinecone (call_vpmZFcbW4WNJFyzOG6Rjdne1)\n",
      " Call ID: call_vpmZFcbW4WNJFyzOG6Rjdne1\n",
      "  Args:\n",
      "    query: best running shoes 2024\n",
      "=================================\u001B[1m Tool Message \u001B[0m=================================\n",
      "Name: retrieve_pinecone\n",
      "\n",
      "[\"\\n4. 2023’s Crop of New Shoes Are Crazy Cushy\\nBased on the sneak peeks I’ve seen, next year’s road running shoes will be cushier and more energetic than ever. While there will be another great crop of new racing shoes —including Nike’s Vaporfly Next% 3 ($250) and Mizuno’s Wave Rebellion Pro ($250)—the best models coming out in 2023 will be cushy, energetic training shoes. Take for example Saucony’s new Kinvara Pro ($180), a super-stacked dual-density midsole sandwiched around a curvy tear-drop carbon-fiber plate. It has an 8mm heel-toe offset with a massive stack height (42mm in the heel, 34 mm in the forefoot), but it weighs only 9 oz. (for a men’s size 9.) Another key model is Skechers Speed Beast, a high-off-the-ground racer/trainer (40mm heel, 36mm forefoot) that incorporates the brand’s new, softer, lighter and more responsive Hyper Burst Pro foam. Same goes for the most anticipated trail running shoe, Speedland’s forthcoming GS:TAM ($275), a maximally cushioned model with a unique dual-density Pebax midsole layered around a fork-pronged removable Carbitex carbon-fiber plate and secured by a pair of two-way BOA performance fit dials.\\nRELATED: The Running Shoes We’re Most Excited to See in 2023\\n5. Trail Running is Blowing Up\\nTakeaway: Shoe brands have taken the opportunity to drop new shoes at the U.S. Olympic Trials for years. In 2020, four years after it secretly had Amy Cragg, Shalane Flanagan and Galen Rupp wear first-generation carbon-plated Vaporfly prototypes at the Trials in Los Angeles, Nike gifted every runner a pair of its new Air Zoom Alphafly Next%. This year, Brooks gifted every runner a pair of its soon-to-be-released Hyperion Elite 4 prototypes, that Des Linden has been wearing since the 2022 New York City Marathon. But this time around, all of the new shoes in the race had to be vetted by World Athletics in advance to make sure they were legal for competition (the current list can be found here) and each shoe will have to become available to the public (even if in small quantities) within a short period of time. The bottom line is that 2024 will be another banner year for advancements in supershoes, so keep your eyes peeled for some fast, light and extremely responsive (and rather expensive) new racing shoes.\\nRELATED: Puma, Nike, Asics, Brooks Dominate Shoe Tally at U.S. Olympic Trials Marathon\\n8. Des Linden in Running the Boston Marathon in 10 Weeks\\nCrazy-Fast Super Shoes\\nRunning shoes got cushier and faster in 2022. Shoe brands ushered in a new crop of speedy racing shoes enhanced with hyper-responsive foams and carbon-fiber propulsion plates, led by the Nike Air Zoom Alphafly Next% 2 ($275), Adidas Adizero Adios Pro 3 ($250), and ASICS MetaSpeed Sky+ ($250). Under Armour burst on the scene with its first carbon-plated racer, the Flow Velociti Elite ($250) as Kenyan runner Sharon Lokedi made it an auspicious debut by winning the New York City Marathon in a pair of them. Hoka’s Rocket X 2, although it won’t officially launch until early 2023, made waves at several marathons as well as the Ironman World Championship.\\nCarbon-fiber plates have also become prolific in trail running shoes, including the Craft CTM Carbon Trail ($260), Saucony Endorphin Edge ($200), and Hoka Tecton X ($200), the latter of which features a set of parallel carbon-fiber plates in each shoe to enhance stability, protection and propulsion. Meanwhile, 2022 Ironman world champion Gustav Iden of Norway ran a new marathon record of 2:36:15 at the event’s return to Hawaii in October wearing a prototype pair of On’s Cloudboom Echo carbon-plated model with a midsole stack height in excess of 50 millimeters. Although those shoes would be deemed illegal in a marathon according to World Athletics standards, those rules don’t apply to Ironman triathlons.\\nRELATED: The Running Shoes We’re Most Excited to Try in 2023\\nNonbinary Acknowledgement and Inclusion\\nThe Best Road Running Shoes of Summer 2023\\n\\nBest Daily Trainer: Tracksmith Eliot Runner\\nBest for Plush Stability: Puma ForeverRun Nitro\\nBest for Carbon-Fiber-Fueled Speed: Hoka Rocket X2\\nBest Combo of Cushioning and Connection: Topo Cyclone 2\\nBest for Smooth Cruising: Adidas Ultraboost Light\\nBest for Comfort Junkies: Asics Gel-Nimbus 25\\nBest for Longer Races: Saucony Endorphin Elite\\nBest for Nimble Versatility: Brooks Levitate 6\\nMost Forgiving: Nike Invincible 3\\nBest Cushy Uptempo Shoe: On Cloudsurfer\", [{\"item_created_at\": \"2022-12-30T15:00:03+00:00\", \"item_image_url\": \"https://cdn.outsideonline.com/wp-content/uploads/2022/12/RUN-2023.jpg\", \"item_source\": \"OUTSIDE\", \"item_title\": \"10 Things to Look Forward to in Running in 2023 and Beyond\", \"item_url\": \"https://www.outsideonline.com/health/running/culture-running/10-things-in-running-2023/\"}, {\"item_created_at\": \"2024-02-07T03:48:31\", \"item_image_url\": \"https://run-cdn.outsideonline.com/wp-content/uploads/2024/02/jkh-016-scaled.jpg\", \"item_source\": \"OUTSIDE_RUN\", \"item_title\": \"9 Key Takeaways From the U.S. Olympic Trials\", \"item_url\": \"https://run.outsideonline.com/road/road-racing/8-key-takeaways-from-the-u-s-olympic-trials-marathon/\"}, {\"item_created_at\": \"2022-12-29T20:24:36+00:00\", \"item_image_url\": \"https://cdn.outsideonline.com/wp-content/uploads/2022/12/Best-of-Run-2022.jpg\", \"item_source\": \"OUTSIDE\", \"item_title\": \"The Most Inspiring Moments in Running and Multisport from 2022\", \"item_url\": \"https://www.outsideonline.com/health/running/culture-running/inspiring-moments-running-triathlon-2022/\"}, {\"item_created_at\": \"2023-10-25T18:56:11+00:00\", \"item_image_url\": \"https://cdn.outsideonline.com/wp-content/uploads/2023/10/road-running-shoes-wgg24_h.jpg\", \"item_source\": \"OUTSIDE\", \"item_title\": \"The Best Road Running Shoes of Winter 2024\", \"item_url\": \"https://www.outsideonline.com/outdoor-gear/run/best-road-running-shoes/\"}]]\n",
      "==================================\u001B[1m Ai Message \u001B[0m==================================\n",
      "\n",
      "Here are some of the best running shoes in 2024, featuring advancements in cushioning and technology:\n",
      "\n",
      "1. **Nike Vaporfly Next% 3** - Priced at $250, this shoe continues the legacy of Nike's racing shoes with enhanced responsiveness and cushioning.\n",
      "\n",
      "2. **Mizuno Wave Rebellion Pro** - Another racing option also priced at $250, known for its energy return and comfort.\n",
      "\n",
      "3. **Saucony Kinvara Pro** - This shoe features a super-stacked dual-density midsole and a carbon-fiber plate, weighing only 9 oz. and priced at $180.\n",
      "\n",
      "4. **Skechers Speed Beast** - A high-off-the-ground model with new Hyper Burst Pro foam, priced at $250.\n",
      "\n",
      "5. **Speedland GS:TAM** - Anticipated as one of the best trail running shoes, priced at $275, it offers a unique dual-density Pebax midsole.\n",
      "\n",
      "6. **Hoka Rocket X 2** - A popular choice for speed, although not officially launched until early 2023.\n",
      "\n",
      "7. **Adidas Adizero Adios Pro 3** - Priced at $250, this shoe is known for its lightweight feel and speed.\n",
      "\n",
      "8. **ASICS MetaSpeed Sky+** - Another racing shoe priced at $250, focusing on performance.\n",
      "\n",
      "9. **Brooks Hyperion Elite 4** - A new entrant often seen at major marathons, showcasing advanced technology.\n",
      "\n",
      "10. **Hoka Tecton X** - A trail running shoe featuring parallel carbon-fiber plates, priced at $200.\n",
      "\n",
      "11. **Saucony Endorphin Elite** - Best for longer races, combining cushioning with responsiveness.\n",
      "\n",
      "For more details, you can check out the full list of the best road running shoes [here](https://www.outsideonline.com/outdoor-gear/run/best-road-running-shoes/).\n"
     ]
    }
   ],
   "source": [
    "for m in messages['messages']:\n",
    "    m.pretty_print()"
   ],
   "metadata": {
    "collapsed": false,
    "ExecuteTime": {
     "end_time": "2024-10-01T19:38:29.262662Z",
     "start_time": "2024-10-01T19:38:29.260816Z"
    }
   },
   "id": "6a5a7a99a1347914",
   "execution_count": 97
  },
  {
   "cell_type": "code",
   "outputs": [
    {
     "ename": "ValueError",
     "evalue": "Message dict must contain 'role' and 'content' keys, got {'messages': [HumanMessage(content='Tell me the id of Pacific Crest Trail', additional_kwargs={}, response_metadata={}, id='a8fc2942-173a-4c8d-908e-9a6a1c32c200'), AIMessage(content='', additional_kwargs={'tool_calls': [{'id': 'call_fX3O3HhlehDRg90Wx4FgAJhH', 'function': {'arguments': '{\"trail_name\":\"Pacific Crest Trail\"}', 'name': 'search_trailforks'}, 'type': 'function'}], 'refusal': None}, response_metadata={'token_usage': {'completion_tokens': 20, 'prompt_tokens': 118, 'total_tokens': 138, 'completion_tokens_details': {'reasoning_tokens': 0}}, 'model_name': 'gpt-4o-mini-2024-07-18', 'system_fingerprint': 'fp_f85bea6784', 'finish_reason': 'tool_calls', 'logprobs': None}, id='run-b6c66327-a494-44ff-b018-d9a6fd3fd252-0', tool_calls=[{'name': 'search_trailforks', 'args': {'trail_name': 'Pacific Crest Trail'}, 'id': 'call_fX3O3HhlehDRg90Wx4FgAJhH', 'type': 'tool_call'}], usage_metadata={'input_tokens': 118, 'output_tokens': 20, 'total_tokens': 138}), ToolMessage(content='trail-595523', name='search_trailforks', id='89ec8dda-1ce7-486a-b1a6-e28ded619ace', tool_call_id='call_fX3O3HhlehDRg90Wx4FgAJhH')]}",
     "output_type": "error",
     "traceback": [
      "\u001B[0;31m---------------------------------------------------------------------------\u001B[0m",
      "\u001B[0;31mKeyError\u001B[0m                                  Traceback (most recent call last)",
      "File \u001B[0;32m/Library/Frameworks/Python.framework/Versions/3.10/lib/python3.10/site-packages/langchain_core/messages/utils.py:309\u001B[0m, in \u001B[0;36m_convert_to_message\u001B[0;34m(message)\u001B[0m\n\u001B[1;32m    308\u001B[0m \u001B[38;5;28;01mtry\u001B[39;00m:\n\u001B[0;32m--> 309\u001B[0m     msg_type \u001B[38;5;241m=\u001B[39m \u001B[43mmsg_kwargs\u001B[49m\u001B[38;5;241;43m.\u001B[39;49m\u001B[43mpop\u001B[49m\u001B[43m(\u001B[49m\u001B[38;5;124;43m\"\u001B[39;49m\u001B[38;5;124;43mrole\u001B[39;49m\u001B[38;5;124;43m\"\u001B[39;49m\u001B[43m)\u001B[49m\n\u001B[1;32m    310\u001B[0m \u001B[38;5;28;01mexcept\u001B[39;00m \u001B[38;5;167;01mKeyError\u001B[39;00m:\n",
      "\u001B[0;31mKeyError\u001B[0m: 'role'",
      "\nDuring handling of the above exception, another exception occurred:\n",
      "\u001B[0;31mKeyError\u001B[0m                                  Traceback (most recent call last)",
      "File \u001B[0;32m/Library/Frameworks/Python.framework/Versions/3.10/lib/python3.10/site-packages/langchain_core/messages/utils.py:311\u001B[0m, in \u001B[0;36m_convert_to_message\u001B[0;34m(message)\u001B[0m\n\u001B[1;32m    310\u001B[0m \u001B[38;5;28;01mexcept\u001B[39;00m \u001B[38;5;167;01mKeyError\u001B[39;00m:\n\u001B[0;32m--> 311\u001B[0m     msg_type \u001B[38;5;241m=\u001B[39m \u001B[43mmsg_kwargs\u001B[49m\u001B[38;5;241;43m.\u001B[39;49m\u001B[43mpop\u001B[49m\u001B[43m(\u001B[49m\u001B[38;5;124;43m\"\u001B[39;49m\u001B[38;5;124;43mtype\u001B[39;49m\u001B[38;5;124;43m\"\u001B[39;49m\u001B[43m)\u001B[49m\n\u001B[1;32m    312\u001B[0m \u001B[38;5;66;03m# None msg content is not allowed\u001B[39;00m\n",
      "\u001B[0;31mKeyError\u001B[0m: 'type'",
      "\nThe above exception was the direct cause of the following exception:\n",
      "\u001B[0;31mValueError\u001B[0m                                Traceback (most recent call last)",
      "Cell \u001B[0;32mIn[75], line 1\u001B[0m\n\u001B[0;32m----> 1\u001B[0m \u001B[38;5;28;01mfor\u001B[39;00m s \u001B[38;5;129;01min\u001B[39;00m graph\u001B[38;5;241m.\u001B[39mstream({\u001B[38;5;124m\"\u001B[39m\u001B[38;5;124mmessages\u001B[39m\u001B[38;5;124m\"\u001B[39m: messages}):\n\u001B[1;32m      2\u001B[0m     \u001B[38;5;28mprint\u001B[39m(s\u001B[38;5;241m.\u001B[39mcontent, end\u001B[38;5;241m=\u001B[39m\u001B[38;5;124m\"\u001B[39m\u001B[38;5;124m\"\u001B[39m, flush\u001B[38;5;241m=\u001B[39m\u001B[38;5;28;01mTrue\u001B[39;00m)\n",
      "File \u001B[0;32m/Library/Frameworks/Python.framework/Versions/3.10/lib/python3.10/site-packages/langgraph/pregel/__init__.py:1292\u001B[0m, in \u001B[0;36mPregel.stream\u001B[0;34m(self, input, config, stream_mode, output_keys, interrupt_before, interrupt_after, debug, subgraphs)\u001B[0m\n\u001B[1;32m   1286\u001B[0m     get_waiter \u001B[38;5;241m=\u001B[39m \u001B[38;5;28;01mNone\u001B[39;00m  \u001B[38;5;66;03m# type: ignore[assignment]\u001B[39;00m\n\u001B[1;32m   1287\u001B[0m \u001B[38;5;66;03m# Similarly to Bulk Synchronous Parallel / Pregel model\u001B[39;00m\n\u001B[1;32m   1288\u001B[0m \u001B[38;5;66;03m# computation proceeds in steps, while there are channel updates\u001B[39;00m\n\u001B[1;32m   1289\u001B[0m \u001B[38;5;66;03m# channel updates from step N are only visible in step N+1\u001B[39;00m\n\u001B[1;32m   1290\u001B[0m \u001B[38;5;66;03m# channels are guaranteed to be immutable for the duration of the step,\u001B[39;00m\n\u001B[1;32m   1291\u001B[0m \u001B[38;5;66;03m# with channel updates applied only at the transition between steps\u001B[39;00m\n\u001B[0;32m-> 1292\u001B[0m \u001B[38;5;28;01mwhile\u001B[39;00m \u001B[43mloop\u001B[49m\u001B[38;5;241;43m.\u001B[39;49m\u001B[43mtick\u001B[49m\u001B[43m(\u001B[49m\n\u001B[1;32m   1293\u001B[0m \u001B[43m    \u001B[49m\u001B[43minput_keys\u001B[49m\u001B[38;5;241;43m=\u001B[39;49m\u001B[38;5;28;43mself\u001B[39;49m\u001B[38;5;241;43m.\u001B[39;49m\u001B[43minput_channels\u001B[49m\u001B[43m,\u001B[49m\n\u001B[1;32m   1294\u001B[0m \u001B[43m    \u001B[49m\u001B[43minterrupt_before\u001B[49m\u001B[38;5;241;43m=\u001B[39;49m\u001B[43minterrupt_before_\u001B[49m\u001B[43m,\u001B[49m\n\u001B[1;32m   1295\u001B[0m \u001B[43m    \u001B[49m\u001B[43minterrupt_after\u001B[49m\u001B[38;5;241;43m=\u001B[39;49m\u001B[43minterrupt_after_\u001B[49m\u001B[43m,\u001B[49m\n\u001B[1;32m   1296\u001B[0m \u001B[43m    \u001B[49m\u001B[43mmanager\u001B[49m\u001B[38;5;241;43m=\u001B[39;49m\u001B[43mrun_manager\u001B[49m\u001B[43m,\u001B[49m\n\u001B[1;32m   1297\u001B[0m \u001B[43m\u001B[49m\u001B[43m)\u001B[49m:\n\u001B[1;32m   1298\u001B[0m     \u001B[38;5;28;01mfor\u001B[39;00m _ \u001B[38;5;129;01min\u001B[39;00m runner\u001B[38;5;241m.\u001B[39mtick(\n\u001B[1;32m   1299\u001B[0m         loop\u001B[38;5;241m.\u001B[39mtasks\u001B[38;5;241m.\u001B[39mvalues(),\n\u001B[1;32m   1300\u001B[0m         timeout\u001B[38;5;241m=\u001B[39m\u001B[38;5;28mself\u001B[39m\u001B[38;5;241m.\u001B[39mstep_timeout,\n\u001B[0;32m   (...)\u001B[0m\n\u001B[1;32m   1303\u001B[0m     ):\n\u001B[1;32m   1304\u001B[0m         \u001B[38;5;66;03m# emit output\u001B[39;00m\n\u001B[1;32m   1305\u001B[0m         \u001B[38;5;28;01myield from\u001B[39;00m output()\n",
      "File \u001B[0;32m/Library/Frameworks/Python.framework/Versions/3.10/lib/python3.10/site-packages/langgraph/pregel/loop.py:325\u001B[0m, in \u001B[0;36mPregelLoop.tick\u001B[0;34m(self, input_keys, interrupt_after, interrupt_before, manager)\u001B[0m\n\u001B[1;32m    317\u001B[0m     print_step_writes(\n\u001B[1;32m    318\u001B[0m         \u001B[38;5;28mself\u001B[39m\u001B[38;5;241m.\u001B[39mstep,\n\u001B[1;32m    319\u001B[0m         writes,\n\u001B[0;32m   (...)\u001B[0m\n\u001B[1;32m    322\u001B[0m         \u001B[38;5;28;01melse\u001B[39;00m \u001B[38;5;28mself\u001B[39m\u001B[38;5;241m.\u001B[39mstream_keys,\n\u001B[1;32m    323\u001B[0m     )\n\u001B[1;32m    324\u001B[0m \u001B[38;5;66;03m# all tasks have finished\u001B[39;00m\n\u001B[0;32m--> 325\u001B[0m mv_writes \u001B[38;5;241m=\u001B[39m \u001B[43mapply_writes\u001B[49m\u001B[43m(\u001B[49m\n\u001B[1;32m    326\u001B[0m \u001B[43m    \u001B[49m\u001B[38;5;28;43mself\u001B[39;49m\u001B[38;5;241;43m.\u001B[39;49m\u001B[43mcheckpoint\u001B[49m\u001B[43m,\u001B[49m\n\u001B[1;32m    327\u001B[0m \u001B[43m    \u001B[49m\u001B[38;5;28;43mself\u001B[39;49m\u001B[38;5;241;43m.\u001B[39;49m\u001B[43mchannels\u001B[49m\u001B[43m,\u001B[49m\n\u001B[1;32m    328\u001B[0m \u001B[43m    \u001B[49m\u001B[38;5;28;43mself\u001B[39;49m\u001B[38;5;241;43m.\u001B[39;49m\u001B[43mtasks\u001B[49m\u001B[38;5;241;43m.\u001B[39;49m\u001B[43mvalues\u001B[49m\u001B[43m(\u001B[49m\u001B[43m)\u001B[49m\u001B[43m,\u001B[49m\n\u001B[1;32m    329\u001B[0m \u001B[43m    \u001B[49m\u001B[38;5;28;43mself\u001B[39;49m\u001B[38;5;241;43m.\u001B[39;49m\u001B[43mcheckpointer_get_next_version\u001B[49m\u001B[43m,\u001B[49m\n\u001B[1;32m    330\u001B[0m \u001B[43m\u001B[49m\u001B[43m)\u001B[49m\n\u001B[1;32m    331\u001B[0m \u001B[38;5;66;03m# apply writes to managed values\u001B[39;00m\n\u001B[1;32m    332\u001B[0m \u001B[38;5;28;01mfor\u001B[39;00m key, values \u001B[38;5;129;01min\u001B[39;00m mv_writes\u001B[38;5;241m.\u001B[39mitems():\n",
      "File \u001B[0;32m/Library/Frameworks/Python.framework/Versions/3.10/lib/python3.10/site-packages/langgraph/pregel/algo.py:250\u001B[0m, in \u001B[0;36mapply_writes\u001B[0;34m(checkpoint, channels, tasks, get_next_version)\u001B[0m\n\u001B[1;32m    248\u001B[0m \u001B[38;5;28;01mfor\u001B[39;00m chan, vals \u001B[38;5;129;01min\u001B[39;00m pending_writes_by_channel\u001B[38;5;241m.\u001B[39mitems():\n\u001B[1;32m    249\u001B[0m     \u001B[38;5;28;01mif\u001B[39;00m chan \u001B[38;5;129;01min\u001B[39;00m channels:\n\u001B[0;32m--> 250\u001B[0m         \u001B[38;5;28;01mif\u001B[39;00m \u001B[43mchannels\u001B[49m\u001B[43m[\u001B[49m\u001B[43mchan\u001B[49m\u001B[43m]\u001B[49m\u001B[38;5;241;43m.\u001B[39;49m\u001B[43mupdate\u001B[49m\u001B[43m(\u001B[49m\u001B[43mvals\u001B[49m\u001B[43m)\u001B[49m \u001B[38;5;129;01mand\u001B[39;00m get_next_version \u001B[38;5;129;01mis\u001B[39;00m \u001B[38;5;129;01mnot\u001B[39;00m \u001B[38;5;28;01mNone\u001B[39;00m:\n\u001B[1;32m    251\u001B[0m             checkpoint[\u001B[38;5;124m\"\u001B[39m\u001B[38;5;124mchannel_versions\u001B[39m\u001B[38;5;124m\"\u001B[39m][chan] \u001B[38;5;241m=\u001B[39m get_next_version(\n\u001B[1;32m    252\u001B[0m                 max_version,\n\u001B[1;32m    253\u001B[0m                 channels[chan],\n\u001B[1;32m    254\u001B[0m             )\n\u001B[1;32m    255\u001B[0m         updated_channels\u001B[38;5;241m.\u001B[39madd(chan)\n",
      "File \u001B[0;32m/Library/Frameworks/Python.framework/Versions/3.10/lib/python3.10/site-packages/langgraph/channels/binop.py:88\u001B[0m, in \u001B[0;36mBinaryOperatorAggregate.update\u001B[0;34m(self, values)\u001B[0m\n\u001B[1;32m     86\u001B[0m     values \u001B[38;5;241m=\u001B[39m values[\u001B[38;5;241m1\u001B[39m:]\n\u001B[1;32m     87\u001B[0m \u001B[38;5;28;01mfor\u001B[39;00m value \u001B[38;5;129;01min\u001B[39;00m values:\n\u001B[0;32m---> 88\u001B[0m     \u001B[38;5;28mself\u001B[39m\u001B[38;5;241m.\u001B[39mvalue \u001B[38;5;241m=\u001B[39m \u001B[38;5;28;43mself\u001B[39;49m\u001B[38;5;241;43m.\u001B[39;49m\u001B[43moperator\u001B[49m\u001B[43m(\u001B[49m\u001B[38;5;28;43mself\u001B[39;49m\u001B[38;5;241;43m.\u001B[39;49m\u001B[43mvalue\u001B[49m\u001B[43m,\u001B[49m\u001B[43m \u001B[49m\u001B[43mvalue\u001B[49m\u001B[43m)\u001B[49m\n\u001B[1;32m     89\u001B[0m \u001B[38;5;28;01mreturn\u001B[39;00m \u001B[38;5;28;01mTrue\u001B[39;00m\n",
      "File \u001B[0;32m/Library/Frameworks/Python.framework/Versions/3.10/lib/python3.10/site-packages/langgraph/graph/message.py:76\u001B[0m, in \u001B[0;36madd_messages\u001B[0;34m(left, right)\u001B[0m\n\u001B[1;32m     69\u001B[0m \u001B[38;5;66;03m# coerce to message\u001B[39;00m\n\u001B[1;32m     70\u001B[0m left \u001B[38;5;241m=\u001B[39m [\n\u001B[1;32m     71\u001B[0m     message_chunk_to_message(cast(BaseMessageChunk, m))\n\u001B[1;32m     72\u001B[0m     \u001B[38;5;28;01mfor\u001B[39;00m m \u001B[38;5;129;01min\u001B[39;00m convert_to_messages(left)\n\u001B[1;32m     73\u001B[0m ]\n\u001B[1;32m     74\u001B[0m right \u001B[38;5;241m=\u001B[39m [\n\u001B[1;32m     75\u001B[0m     message_chunk_to_message(cast(BaseMessageChunk, m))\n\u001B[0;32m---> 76\u001B[0m     \u001B[38;5;28;01mfor\u001B[39;00m m \u001B[38;5;129;01min\u001B[39;00m \u001B[43mconvert_to_messages\u001B[49m\u001B[43m(\u001B[49m\u001B[43mright\u001B[49m\u001B[43m)\u001B[49m\n\u001B[1;32m     77\u001B[0m ]\n\u001B[1;32m     78\u001B[0m \u001B[38;5;66;03m# assign missing ids\u001B[39;00m\n\u001B[1;32m     79\u001B[0m \u001B[38;5;28;01mfor\u001B[39;00m m \u001B[38;5;129;01min\u001B[39;00m left:\n",
      "File \u001B[0;32m/Library/Frameworks/Python.framework/Versions/3.10/lib/python3.10/site-packages/langchain_core/messages/utils.py:343\u001B[0m, in \u001B[0;36mconvert_to_messages\u001B[0;34m(messages)\u001B[0m\n\u001B[1;32m    341\u001B[0m \u001B[38;5;28;01mif\u001B[39;00m \u001B[38;5;28misinstance\u001B[39m(messages, PromptValue):\n\u001B[1;32m    342\u001B[0m     \u001B[38;5;28;01mreturn\u001B[39;00m messages\u001B[38;5;241m.\u001B[39mto_messages()\n\u001B[0;32m--> 343\u001B[0m \u001B[38;5;28;01mreturn\u001B[39;00m [_convert_to_message(m) \u001B[38;5;28;01mfor\u001B[39;00m m \u001B[38;5;129;01min\u001B[39;00m messages]\n",
      "File \u001B[0;32m/Library/Frameworks/Python.framework/Versions/3.10/lib/python3.10/site-packages/langchain_core/messages/utils.py:343\u001B[0m, in \u001B[0;36m<listcomp>\u001B[0;34m(.0)\u001B[0m\n\u001B[1;32m    341\u001B[0m \u001B[38;5;28;01mif\u001B[39;00m \u001B[38;5;28misinstance\u001B[39m(messages, PromptValue):\n\u001B[1;32m    342\u001B[0m     \u001B[38;5;28;01mreturn\u001B[39;00m messages\u001B[38;5;241m.\u001B[39mto_messages()\n\u001B[0;32m--> 343\u001B[0m \u001B[38;5;28;01mreturn\u001B[39;00m [\u001B[43m_convert_to_message\u001B[49m\u001B[43m(\u001B[49m\u001B[43mm\u001B[49m\u001B[43m)\u001B[49m \u001B[38;5;28;01mfor\u001B[39;00m m \u001B[38;5;129;01min\u001B[39;00m messages]\n",
      "File \u001B[0;32m/Library/Frameworks/Python.framework/Versions/3.10/lib/python3.10/site-packages/langchain_core/messages/utils.py:315\u001B[0m, in \u001B[0;36m_convert_to_message\u001B[0;34m(message)\u001B[0m\n\u001B[1;32m    313\u001B[0m         msg_content \u001B[38;5;241m=\u001B[39m msg_kwargs\u001B[38;5;241m.\u001B[39mpop(\u001B[38;5;124m\"\u001B[39m\u001B[38;5;124mcontent\u001B[39m\u001B[38;5;124m\"\u001B[39m) \u001B[38;5;129;01mor\u001B[39;00m \u001B[38;5;124m\"\u001B[39m\u001B[38;5;124m\"\u001B[39m\n\u001B[1;32m    314\u001B[0m     \u001B[38;5;28;01mexcept\u001B[39;00m \u001B[38;5;167;01mKeyError\u001B[39;00m \u001B[38;5;28;01mas\u001B[39;00m e:\n\u001B[0;32m--> 315\u001B[0m         \u001B[38;5;28;01mraise\u001B[39;00m \u001B[38;5;167;01mValueError\u001B[39;00m(\n\u001B[1;32m    316\u001B[0m             \u001B[38;5;124mf\u001B[39m\u001B[38;5;124m\"\u001B[39m\u001B[38;5;124mMessage dict must contain \u001B[39m\u001B[38;5;124m'\u001B[39m\u001B[38;5;124mrole\u001B[39m\u001B[38;5;124m'\u001B[39m\u001B[38;5;124m and \u001B[39m\u001B[38;5;124m'\u001B[39m\u001B[38;5;124mcontent\u001B[39m\u001B[38;5;124m'\u001B[39m\u001B[38;5;124m keys, got \u001B[39m\u001B[38;5;132;01m{\u001B[39;00mmessage\u001B[38;5;132;01m}\u001B[39;00m\u001B[38;5;124m\"\u001B[39m\n\u001B[1;32m    317\u001B[0m         ) \u001B[38;5;28;01mfrom\u001B[39;00m \u001B[38;5;21;01me\u001B[39;00m\n\u001B[1;32m    318\u001B[0m     _message \u001B[38;5;241m=\u001B[39m _create_message_from_message_type(\n\u001B[1;32m    319\u001B[0m         msg_type, msg_content, \u001B[38;5;241m*\u001B[39m\u001B[38;5;241m*\u001B[39mmsg_kwargs\n\u001B[1;32m    320\u001B[0m     )\n\u001B[1;32m    321\u001B[0m \u001B[38;5;28;01melse\u001B[39;00m:\n",
      "\u001B[0;31mValueError\u001B[0m: Message dict must contain 'role' and 'content' keys, got {'messages': [HumanMessage(content='Tell me the id of Pacific Crest Trail', additional_kwargs={}, response_metadata={}, id='a8fc2942-173a-4c8d-908e-9a6a1c32c200'), AIMessage(content='', additional_kwargs={'tool_calls': [{'id': 'call_fX3O3HhlehDRg90Wx4FgAJhH', 'function': {'arguments': '{\"trail_name\":\"Pacific Crest Trail\"}', 'name': 'search_trailforks'}, 'type': 'function'}], 'refusal': None}, response_metadata={'token_usage': {'completion_tokens': 20, 'prompt_tokens': 118, 'total_tokens': 138, 'completion_tokens_details': {'reasoning_tokens': 0}}, 'model_name': 'gpt-4o-mini-2024-07-18', 'system_fingerprint': 'fp_f85bea6784', 'finish_reason': 'tool_calls', 'logprobs': None}, id='run-b6c66327-a494-44ff-b018-d9a6fd3fd252-0', tool_calls=[{'name': 'search_trailforks', 'args': {'trail_name': 'Pacific Crest Trail'}, 'id': 'call_fX3O3HhlehDRg90Wx4FgAJhH', 'type': 'tool_call'}], usage_metadata={'input_tokens': 118, 'output_tokens': 20, 'total_tokens': 138}), ToolMessage(content='trail-595523', name='search_trailforks', id='89ec8dda-1ce7-486a-b1a6-e28ded619ace', tool_call_id='call_fX3O3HhlehDRg90Wx4FgAJhH')]}"
     ]
    }
   ],
   "source": [
    "for s in graph.stream({\"messages\": messages}):\n",
    "    print(s.content, end=\"\", flush=True)"
   ],
   "metadata": {
    "collapsed": false,
    "ExecuteTime": {
     "end_time": "2024-10-01T18:52:42.241098Z",
     "start_time": "2024-10-01T18:52:42.012324Z"
    }
   },
   "id": "5150db3de20ba924",
   "execution_count": 75
  },
  {
   "cell_type": "code",
   "outputs": [],
   "source": [],
   "metadata": {
    "collapsed": false
   },
   "id": "8de28c134bc06937"
  }
 ],
 "metadata": {
  "kernelspec": {
   "display_name": "Python 3",
   "language": "python",
   "name": "python3"
  },
  "language_info": {
   "codemirror_mode": {
    "name": "ipython",
    "version": 2
   },
   "file_extension": ".py",
   "mimetype": "text/x-python",
   "name": "python",
   "nbconvert_exporter": "python",
   "pygments_lexer": "ipython2",
   "version": "2.7.6"
  }
 },
 "nbformat": 4,
 "nbformat_minor": 5
}
